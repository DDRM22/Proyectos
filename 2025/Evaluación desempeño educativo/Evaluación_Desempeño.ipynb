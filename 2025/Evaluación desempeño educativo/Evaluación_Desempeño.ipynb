{
 "cells": [
  {
   "cell_type": "markdown",
   "id": "35f0ea2a",
   "metadata": {},
   "source": [
    "# 0. Introducción al proyecto\n",
    "\n",
    "La idea principal de este NoteBook es comparar el desempeño de un modelo clásico de ML frente a una red neuronal diseñada completamente por mi.\n",
    "\n",
    "Para ello abordaré un problema relativamente sencillo con un dataset extraido de Kaggle al que podéis acceder desde aquí:\n",
    "\n",
    " https://www.kaggle.com/datasets/therohithanand/student-academic-performance-dataset/data\n",
    "\n",
    "Para abordar problemas del mundo real es importante responder una serie de preguntas:\n",
    "\n",
    "- ¿Cuál es la finalidad del proyecto?\n",
    "\n",
    "- ¿?\n",
    "\n",
    "- ¿Qué significado tienen los resultados obtenidos?\n",
    "\n",
    "- ¿Cuáles son las métricas con mayor impacto?\n",
    "\n",
    "Una vez planteadas y respondidas estas preguntas, es interesante distribuir en fases el desarrollo del proyecto y aportar el contexto necesario."
   ]
  },
  {
   "cell_type": "markdown",
   "id": "ad618d13",
   "metadata": {},
   "source": [
    "# 1. Importación de librerias y carga de datos\n",
    "\n",
    "\n"
   ]
  },
  {
   "cell_type": "code",
   "execution_count": 33,
   "id": "7dd62474",
   "metadata": {},
   "outputs": [
    {
     "data": {
      "application/vnd.microsoft.datawrangler.viewer.v0+json": {
       "columns": [
        {
         "name": "index",
         "rawType": "int64",
         "type": "integer"
        },
        {
         "name": "student_id",
         "rawType": "object",
         "type": "string"
        },
        {
         "name": "name",
         "rawType": "object",
         "type": "string"
        },
        {
         "name": "gender",
         "rawType": "object",
         "type": "string"
        },
        {
         "name": "age",
         "rawType": "int64",
         "type": "integer"
        },
        {
         "name": "grade_level",
         "rawType": "int64",
         "type": "integer"
        },
        {
         "name": "math_score",
         "rawType": "int64",
         "type": "integer"
        },
        {
         "name": "reading_score",
         "rawType": "int64",
         "type": "integer"
        },
        {
         "name": "writing_score",
         "rawType": "int64",
         "type": "integer"
        },
        {
         "name": "attendance_rate",
         "rawType": "float64",
         "type": "float"
        },
        {
         "name": "parent_education",
         "rawType": "object",
         "type": "string"
        },
        {
         "name": "study_hours",
         "rawType": "float64",
         "type": "float"
        },
        {
         "name": "internet_access",
         "rawType": "object",
         "type": "string"
        },
        {
         "name": "lunch_type",
         "rawType": "object",
         "type": "string"
        },
        {
         "name": "extra_activities",
         "rawType": "object",
         "type": "string"
        },
        {
         "name": "final_result",
         "rawType": "object",
         "type": "string"
        }
       ],
       "ref": "14235021-fa88-491b-9920-01657293fd3e",
       "rows": [
        [
         "0",
         "S1",
         "Student_1",
         "Other",
         "17",
         "10",
         "74",
         "61",
         "90",
         "94.66000214445246",
         "Master's",
         "4.120192348160174",
         "Yes",
         "Free or reduced",
         "Yes",
         "Fail"
        ],
        [
         "1",
         "S2",
         "Student_2",
         "Male",
         "17",
         "12",
         "99",
         "70",
         "91",
         "93.17322709879534",
         "Bachelor's",
         "2.8865054607810468",
         "No",
         "Free or reduced",
         "No",
         "Pass"
        ],
        [
         "2",
         "S3",
         "Student_3",
         "Other",
         "17",
         "9",
         "59",
         "60",
         "99",
         "98.63109828618964",
         "PhD",
         "1.90992641477416",
         "No",
         "Free or reduced",
         "No",
         "Fail"
        ],
        [
         "3",
         "S4",
         "Student_4",
         "Other",
         "17",
         "12",
         "70",
         "88",
         "69",
         "96.41962034598282",
         "PhD",
         "1.6647399984389968",
         "No",
         "Standard",
         "No",
         "Pass"
        ],
        [
         "4",
         "S5",
         "Student_5",
         "Male",
         "15",
         "9",
         "85",
         "77",
         "94",
         "91.33210517810926",
         "PhD",
         "2.3309179060415164",
         "Yes",
         "Free or reduced",
         "No",
         "Pass"
        ]
       ],
       "shape": {
        "columns": 15,
        "rows": 5
       }
      },
      "text/html": [
       "<div>\n",
       "<style scoped>\n",
       "    .dataframe tbody tr th:only-of-type {\n",
       "        vertical-align: middle;\n",
       "    }\n",
       "\n",
       "    .dataframe tbody tr th {\n",
       "        vertical-align: top;\n",
       "    }\n",
       "\n",
       "    .dataframe thead th {\n",
       "        text-align: right;\n",
       "    }\n",
       "</style>\n",
       "<table border=\"1\" class=\"dataframe\">\n",
       "  <thead>\n",
       "    <tr style=\"text-align: right;\">\n",
       "      <th></th>\n",
       "      <th>student_id</th>\n",
       "      <th>name</th>\n",
       "      <th>gender</th>\n",
       "      <th>age</th>\n",
       "      <th>grade_level</th>\n",
       "      <th>math_score</th>\n",
       "      <th>reading_score</th>\n",
       "      <th>writing_score</th>\n",
       "      <th>attendance_rate</th>\n",
       "      <th>parent_education</th>\n",
       "      <th>study_hours</th>\n",
       "      <th>internet_access</th>\n",
       "      <th>lunch_type</th>\n",
       "      <th>extra_activities</th>\n",
       "      <th>final_result</th>\n",
       "    </tr>\n",
       "  </thead>\n",
       "  <tbody>\n",
       "    <tr>\n",
       "      <th>0</th>\n",
       "      <td>S1</td>\n",
       "      <td>Student_1</td>\n",
       "      <td>Other</td>\n",
       "      <td>17</td>\n",
       "      <td>10</td>\n",
       "      <td>74</td>\n",
       "      <td>61</td>\n",
       "      <td>90</td>\n",
       "      <td>94.660002</td>\n",
       "      <td>Master's</td>\n",
       "      <td>4.120192</td>\n",
       "      <td>Yes</td>\n",
       "      <td>Free or reduced</td>\n",
       "      <td>Yes</td>\n",
       "      <td>Fail</td>\n",
       "    </tr>\n",
       "    <tr>\n",
       "      <th>1</th>\n",
       "      <td>S2</td>\n",
       "      <td>Student_2</td>\n",
       "      <td>Male</td>\n",
       "      <td>17</td>\n",
       "      <td>12</td>\n",
       "      <td>99</td>\n",
       "      <td>70</td>\n",
       "      <td>91</td>\n",
       "      <td>93.173227</td>\n",
       "      <td>Bachelor's</td>\n",
       "      <td>2.886505</td>\n",
       "      <td>No</td>\n",
       "      <td>Free or reduced</td>\n",
       "      <td>No</td>\n",
       "      <td>Pass</td>\n",
       "    </tr>\n",
       "    <tr>\n",
       "      <th>2</th>\n",
       "      <td>S3</td>\n",
       "      <td>Student_3</td>\n",
       "      <td>Other</td>\n",
       "      <td>17</td>\n",
       "      <td>9</td>\n",
       "      <td>59</td>\n",
       "      <td>60</td>\n",
       "      <td>99</td>\n",
       "      <td>98.631098</td>\n",
       "      <td>PhD</td>\n",
       "      <td>1.909926</td>\n",
       "      <td>No</td>\n",
       "      <td>Free or reduced</td>\n",
       "      <td>No</td>\n",
       "      <td>Fail</td>\n",
       "    </tr>\n",
       "    <tr>\n",
       "      <th>3</th>\n",
       "      <td>S4</td>\n",
       "      <td>Student_4</td>\n",
       "      <td>Other</td>\n",
       "      <td>17</td>\n",
       "      <td>12</td>\n",
       "      <td>70</td>\n",
       "      <td>88</td>\n",
       "      <td>69</td>\n",
       "      <td>96.419620</td>\n",
       "      <td>PhD</td>\n",
       "      <td>1.664740</td>\n",
       "      <td>No</td>\n",
       "      <td>Standard</td>\n",
       "      <td>No</td>\n",
       "      <td>Pass</td>\n",
       "    </tr>\n",
       "    <tr>\n",
       "      <th>4</th>\n",
       "      <td>S5</td>\n",
       "      <td>Student_5</td>\n",
       "      <td>Male</td>\n",
       "      <td>15</td>\n",
       "      <td>9</td>\n",
       "      <td>85</td>\n",
       "      <td>77</td>\n",
       "      <td>94</td>\n",
       "      <td>91.332105</td>\n",
       "      <td>PhD</td>\n",
       "      <td>2.330918</td>\n",
       "      <td>Yes</td>\n",
       "      <td>Free or reduced</td>\n",
       "      <td>No</td>\n",
       "      <td>Pass</td>\n",
       "    </tr>\n",
       "  </tbody>\n",
       "</table>\n",
       "</div>"
      ],
      "text/plain": [
       "  student_id       name gender  age  grade_level  math_score  reading_score  \\\n",
       "0         S1  Student_1  Other   17           10          74             61   \n",
       "1         S2  Student_2   Male   17           12          99             70   \n",
       "2         S3  Student_3  Other   17            9          59             60   \n",
       "3         S4  Student_4  Other   17           12          70             88   \n",
       "4         S5  Student_5   Male   15            9          85             77   \n",
       "\n",
       "   writing_score  attendance_rate parent_education  study_hours  \\\n",
       "0             90        94.660002         Master's     4.120192   \n",
       "1             91        93.173227       Bachelor's     2.886505   \n",
       "2             99        98.631098              PhD     1.909926   \n",
       "3             69        96.419620              PhD     1.664740   \n",
       "4             94        91.332105              PhD     2.330918   \n",
       "\n",
       "  internet_access       lunch_type extra_activities final_result  \n",
       "0             Yes  Free or reduced              Yes         Fail  \n",
       "1              No  Free or reduced               No         Pass  \n",
       "2              No  Free or reduced               No         Fail  \n",
       "3              No         Standard               No         Pass  \n",
       "4             Yes  Free or reduced               No         Pass  "
      ]
     },
     "execution_count": 33,
     "metadata": {},
     "output_type": "execute_result"
    }
   ],
   "source": [
    "import pandas as pd \n",
    "import numpy as np \n",
    "import seaborn as sns\n",
    "import matplotlib.pyplot as plt\n",
    "import matplotlib_inline\n",
    "import tensorflow as tf \n",
    "\n",
    "\n",
    "ruta = \"./data/student_info.csv\"\n",
    "\n",
    "data_raw = pd.read_csv(ruta, sep=\",\")\n",
    "\n",
    "data_raw.head()"
   ]
  },
  {
   "cell_type": "markdown",
   "id": "d6e50491",
   "metadata": {},
   "source": [
    "# 2. Preprocesado del dataset"
   ]
  },
  {
   "cell_type": "code",
   "execution_count": 5,
   "id": "6daa32c1",
   "metadata": {},
   "outputs": [
    {
     "name": "stdout",
     "output_type": "stream",
     "text": [
      "<class 'pandas.core.frame.DataFrame'>\n",
      "RangeIndex: 1000 entries, 0 to 999\n",
      "Data columns (total 15 columns):\n",
      " #   Column            Non-Null Count  Dtype  \n",
      "---  ------            --------------  -----  \n",
      " 0   student_id        1000 non-null   object \n",
      " 1   name              1000 non-null   object \n",
      " 2   gender            1000 non-null   object \n",
      " 3   age               1000 non-null   int64  \n",
      " 4   grade_level       1000 non-null   int64  \n",
      " 5   math_score        1000 non-null   int64  \n",
      " 6   reading_score     1000 non-null   int64  \n",
      " 7   writing_score     1000 non-null   int64  \n",
      " 8   attendance_rate   1000 non-null   float64\n",
      " 9   parent_education  1000 non-null   object \n",
      " 10  study_hours       1000 non-null   float64\n",
      " 11  internet_access   1000 non-null   object \n",
      " 12  lunch_type        1000 non-null   object \n",
      " 13  extra_activities  1000 non-null   object \n",
      " 14  final_result      1000 non-null   object \n",
      "dtypes: float64(2), int64(5), object(8)\n",
      "memory usage: 117.3+ KB\n"
     ]
    }
   ],
   "source": [
    "# Visualizamos la información de las variables\n",
    "data_raw.info()"
   ]
  },
  {
   "cell_type": "markdown",
   "id": "c4d8798b",
   "metadata": {},
   "source": [
    "Estamos trabajando con un dataset de Kaggle que por lo general ya vienen limpiados/tratados.\n",
    "\n",
    "La parte negativa de esto es que nos alejamos de un proyecto real. \n",
    "\n",
    "Ya que por lo general, en un proyecto real, falta información (a causa de problemas en su recopilación o errores humanos) y estamos omitiendo la fase de tratar esa información faltante o eliminarla (aunque esto último puede ser una decisión muy drástica)."
   ]
  },
  {
   "cell_type": "markdown",
   "id": "a030ebb1",
   "metadata": {},
   "source": [
    "#### Describción de las variables\n",
    "\n",
    "- student_id -> Identificador del estudiante\n",
    "\n",
    "- name -> Nombre del estudiante (Confidencial)\n",
    "\n",
    "- gender -> Genero del estudiante (Male, Female, Other)\n",
    "\n",
    "- age -> Edad del estudiante\n",
    "\n",
    "- grade_level -> Curso en el que se encuentra el estudiante\n",
    "\n",
    "- math_score -> Puntuación en matemáticas\n",
    "\n",
    "- reading_score -> Puntuación en lectura\n",
    "\n",
    "- writing_score -> Puntuación en escritura\n",
    "\n",
    "- attendance_rate -> Tasa de asistancia\n",
    "\n",
    "- parent_education -> Nivel educativo de sus progenitores (Bachelor´s, PhD, High School, Master´s)\n",
    "\n",
    "- study_hours -> Horas de estudio\n",
    "\n",
    "- internet_access -> Acceso a internet (Yes, No)\n",
    "\n",
    "- lunch_type -> Tipo de almuerzo (Standard, Free or Reduced)\n",
    "\n",
    "- extra_activities -> Actividades extracurriculares (Yes, No)\n",
    "\n",
    "- final_result -> Resultado final (Pass, Fail)\n",
    "\n",
    "\n",
    "\n",
    "Habiendo identificado todas las variables y sus tipos, podemos determinar que cambios son necesarios para realizar la fase de modelado."
   ]
  },
  {
   "cell_type": "code",
   "execution_count": 6,
   "id": "61113bf3",
   "metadata": {},
   "outputs": [
    {
     "data": {
      "application/vnd.microsoft.datawrangler.viewer.v0+json": {
       "columns": [
        {
         "name": "index",
         "rawType": "object",
         "type": "string"
        },
        {
         "name": "count",
         "rawType": "float64",
         "type": "float"
        },
        {
         "name": "mean",
         "rawType": "float64",
         "type": "float"
        },
        {
         "name": "std",
         "rawType": "float64",
         "type": "float"
        },
        {
         "name": "min",
         "rawType": "float64",
         "type": "float"
        },
        {
         "name": "25%",
         "rawType": "float64",
         "type": "float"
        },
        {
         "name": "50%",
         "rawType": "float64",
         "type": "float"
        },
        {
         "name": "75%",
         "rawType": "float64",
         "type": "float"
        },
        {
         "name": "max",
         "rawType": "float64",
         "type": "float"
        }
       ],
       "ref": "653c246e-1d8d-429c-b608-49bc207cbc1a",
       "rows": [
        [
         "age",
         "1000.0",
         "15.999",
         "0.8171087238958269",
         "15.0",
         "15.0",
         "16.0",
         "17.0",
         "17.0"
        ],
        [
         "grade_level",
         "1000.0",
         "10.473",
         "1.1360288559546194",
         "9.0",
         "9.0",
         "10.0",
         "12.0",
         "12.0"
        ],
        [
         "math_score",
         "1000.0",
         "75.165",
         "14.304348618143694",
         "50.0",
         "63.0",
         "75.0",
         "88.0",
         "99.0"
        ],
        [
         "reading_score",
         "1000.0",
         "74.293",
         "14.312651850827748",
         "50.0",
         "62.0",
         "74.0",
         "86.0",
         "99.0"
        ],
        [
         "writing_score",
         "1000.0",
         "75.15",
         "14.395093564083519",
         "50.0",
         "63.0",
         "75.0",
         "88.0",
         "99.0"
        ],
        [
         "attendance_rate",
         "1000.0",
         "89.87917930734913",
         "5.72500670813145",
         "80.00061437690765",
         "84.97177237383673",
         "89.98088935512831",
         "94.62977771576244",
         "99.954987780204"
        ],
        [
         "study_hours",
         "1000.0",
         "2.978380122611146",
         "1.1677801650612705",
         "1.015673499804373",
         "1.955287252296845",
         "2.962664504157477",
         "3.9943600738264475",
         "4.9978427242386925"
        ]
       ],
       "shape": {
        "columns": 8,
        "rows": 7
       }
      },
      "text/html": [
       "<div>\n",
       "<style scoped>\n",
       "    .dataframe tbody tr th:only-of-type {\n",
       "        vertical-align: middle;\n",
       "    }\n",
       "\n",
       "    .dataframe tbody tr th {\n",
       "        vertical-align: top;\n",
       "    }\n",
       "\n",
       "    .dataframe thead th {\n",
       "        text-align: right;\n",
       "    }\n",
       "</style>\n",
       "<table border=\"1\" class=\"dataframe\">\n",
       "  <thead>\n",
       "    <tr style=\"text-align: right;\">\n",
       "      <th></th>\n",
       "      <th>count</th>\n",
       "      <th>mean</th>\n",
       "      <th>std</th>\n",
       "      <th>min</th>\n",
       "      <th>25%</th>\n",
       "      <th>50%</th>\n",
       "      <th>75%</th>\n",
       "      <th>max</th>\n",
       "    </tr>\n",
       "  </thead>\n",
       "  <tbody>\n",
       "    <tr>\n",
       "      <th>age</th>\n",
       "      <td>1000.0</td>\n",
       "      <td>15.999000</td>\n",
       "      <td>0.817109</td>\n",
       "      <td>15.000000</td>\n",
       "      <td>15.000000</td>\n",
       "      <td>16.000000</td>\n",
       "      <td>17.000000</td>\n",
       "      <td>17.000000</td>\n",
       "    </tr>\n",
       "    <tr>\n",
       "      <th>grade_level</th>\n",
       "      <td>1000.0</td>\n",
       "      <td>10.473000</td>\n",
       "      <td>1.136029</td>\n",
       "      <td>9.000000</td>\n",
       "      <td>9.000000</td>\n",
       "      <td>10.000000</td>\n",
       "      <td>12.000000</td>\n",
       "      <td>12.000000</td>\n",
       "    </tr>\n",
       "    <tr>\n",
       "      <th>math_score</th>\n",
       "      <td>1000.0</td>\n",
       "      <td>75.165000</td>\n",
       "      <td>14.304349</td>\n",
       "      <td>50.000000</td>\n",
       "      <td>63.000000</td>\n",
       "      <td>75.000000</td>\n",
       "      <td>88.000000</td>\n",
       "      <td>99.000000</td>\n",
       "    </tr>\n",
       "    <tr>\n",
       "      <th>reading_score</th>\n",
       "      <td>1000.0</td>\n",
       "      <td>74.293000</td>\n",
       "      <td>14.312652</td>\n",
       "      <td>50.000000</td>\n",
       "      <td>62.000000</td>\n",
       "      <td>74.000000</td>\n",
       "      <td>86.000000</td>\n",
       "      <td>99.000000</td>\n",
       "    </tr>\n",
       "    <tr>\n",
       "      <th>writing_score</th>\n",
       "      <td>1000.0</td>\n",
       "      <td>75.150000</td>\n",
       "      <td>14.395094</td>\n",
       "      <td>50.000000</td>\n",
       "      <td>63.000000</td>\n",
       "      <td>75.000000</td>\n",
       "      <td>88.000000</td>\n",
       "      <td>99.000000</td>\n",
       "    </tr>\n",
       "    <tr>\n",
       "      <th>attendance_rate</th>\n",
       "      <td>1000.0</td>\n",
       "      <td>89.879179</td>\n",
       "      <td>5.725007</td>\n",
       "      <td>80.000614</td>\n",
       "      <td>84.971772</td>\n",
       "      <td>89.980889</td>\n",
       "      <td>94.629778</td>\n",
       "      <td>99.954988</td>\n",
       "    </tr>\n",
       "    <tr>\n",
       "      <th>study_hours</th>\n",
       "      <td>1000.0</td>\n",
       "      <td>2.978380</td>\n",
       "      <td>1.167780</td>\n",
       "      <td>1.015673</td>\n",
       "      <td>1.955287</td>\n",
       "      <td>2.962665</td>\n",
       "      <td>3.994360</td>\n",
       "      <td>4.997843</td>\n",
       "    </tr>\n",
       "  </tbody>\n",
       "</table>\n",
       "</div>"
      ],
      "text/plain": [
       "                  count       mean        std        min        25%  \\\n",
       "age              1000.0  15.999000   0.817109  15.000000  15.000000   \n",
       "grade_level      1000.0  10.473000   1.136029   9.000000   9.000000   \n",
       "math_score       1000.0  75.165000  14.304349  50.000000  63.000000   \n",
       "reading_score    1000.0  74.293000  14.312652  50.000000  62.000000   \n",
       "writing_score    1000.0  75.150000  14.395094  50.000000  63.000000   \n",
       "attendance_rate  1000.0  89.879179   5.725007  80.000614  84.971772   \n",
       "study_hours      1000.0   2.978380   1.167780   1.015673   1.955287   \n",
       "\n",
       "                       50%        75%        max  \n",
       "age              16.000000  17.000000  17.000000  \n",
       "grade_level      10.000000  12.000000  12.000000  \n",
       "math_score       75.000000  88.000000  99.000000  \n",
       "reading_score    74.000000  86.000000  99.000000  \n",
       "writing_score    75.000000  88.000000  99.000000  \n",
       "attendance_rate  89.980889  94.629778  99.954988  \n",
       "study_hours       2.962665   3.994360   4.997843  "
      ]
     },
     "execution_count": 6,
     "metadata": {},
     "output_type": "execute_result"
    }
   ],
   "source": [
    "# Pequeño análisis estadistico de las variables numéricas\n",
    "data_raw.describe().transpose()"
   ]
  },
  {
   "cell_type": "code",
   "execution_count": 11,
   "id": "de19a4d5",
   "metadata": {},
   "outputs": [
    {
     "data": {
      "application/vnd.microsoft.datawrangler.viewer.v0+json": {
       "columns": [
        {
         "name": "index",
         "rawType": "bool",
         "type": "boolean"
        },
        {
         "name": "count",
         "rawType": "int64",
         "type": "integer"
        }
       ],
       "ref": "df59e3a7-bb13-405f-9f61-6e9ead2be5c8",
       "rows": [
        [
         "False",
         "1000"
        ]
       ],
       "shape": {
        "columns": 1,
        "rows": 1
       }
      },
      "text/plain": [
       "False    1000\n",
       "Name: count, dtype: int64"
      ]
     },
     "execution_count": 11,
     "metadata": {},
     "output_type": "execute_result"
    }
   ],
   "source": [
    "# Comprobamos que no existen duplicados\n",
    "\n",
    "data_raw.duplicated().value_counts()"
   ]
  },
  {
   "cell_type": "markdown",
   "id": "fc3a9178",
   "metadata": {},
   "source": [
    "#### Tranformación de variables: \n",
    "\n",
    "Como vimos anteriormente, exiten variables que no son de tipo numérico por lo que debemos realizar transformaciones para poder tenerlas en cuenta en la fase de modelado.\n",
    "\n"
   ]
  },
  {
   "cell_type": "code",
   "execution_count": 38,
   "id": "856a2273",
   "metadata": {},
   "outputs": [
    {
     "data": {
      "application/vnd.microsoft.datawrangler.viewer.v0+json": {
       "columns": [
        {
         "name": "index",
         "rawType": "int64",
         "type": "integer"
        },
        {
         "name": "student_id",
         "rawType": "object",
         "type": "string"
        },
        {
         "name": "name",
         "rawType": "object",
         "type": "string"
        },
        {
         "name": "gender",
         "rawType": "int64",
         "type": "integer"
        },
        {
         "name": "age",
         "rawType": "int64",
         "type": "integer"
        },
        {
         "name": "grade_level",
         "rawType": "int64",
         "type": "integer"
        },
        {
         "name": "math_score",
         "rawType": "int64",
         "type": "integer"
        },
        {
         "name": "reading_score",
         "rawType": "int64",
         "type": "integer"
        },
        {
         "name": "writing_score",
         "rawType": "int64",
         "type": "integer"
        },
        {
         "name": "attendance_rate",
         "rawType": "float64",
         "type": "float"
        },
        {
         "name": "parent_education",
         "rawType": "int64",
         "type": "integer"
        },
        {
         "name": "study_hours",
         "rawType": "float64",
         "type": "float"
        },
        {
         "name": "internet_access",
         "rawType": "int64",
         "type": "integer"
        },
        {
         "name": "lunch_type",
         "rawType": "int64",
         "type": "integer"
        },
        {
         "name": "extra_activities",
         "rawType": "int64",
         "type": "integer"
        },
        {
         "name": "final_result",
         "rawType": "int64",
         "type": "integer"
        }
       ],
       "ref": "211719ff-5783-4c0a-ae14-55e678b6bcff",
       "rows": [
        [
         "0",
         "S1",
         "Student_1",
         "2",
         "17",
         "10",
         "74",
         "61",
         "90",
         "94.66000214445246",
         "4",
         "4.120192348160174",
         "1",
         "0",
         "1",
         "0"
        ],
        [
         "1",
         "S2",
         "Student_2",
         "1",
         "17",
         "12",
         "99",
         "70",
         "91",
         "93.17322709879534",
         "1",
         "2.8865054607810468",
         "0",
         "0",
         "0",
         "1"
        ],
        [
         "2",
         "S3",
         "Student_3",
         "2",
         "17",
         "9",
         "59",
         "60",
         "99",
         "98.63109828618964",
         "2",
         "1.90992641477416",
         "0",
         "0",
         "0",
         "0"
        ],
        [
         "3",
         "S4",
         "Student_4",
         "2",
         "17",
         "12",
         "70",
         "88",
         "69",
         "96.41962034598282",
         "2",
         "1.6647399984389968",
         "0",
         "1",
         "0",
         "1"
        ],
        [
         "4",
         "S5",
         "Student_5",
         "1",
         "15",
         "9",
         "85",
         "77",
         "94",
         "91.33210517810926",
         "2",
         "2.3309179060415164",
         "1",
         "0",
         "0",
         "1"
        ]
       ],
       "shape": {
        "columns": 15,
        "rows": 5
       }
      },
      "text/html": [
       "<div>\n",
       "<style scoped>\n",
       "    .dataframe tbody tr th:only-of-type {\n",
       "        vertical-align: middle;\n",
       "    }\n",
       "\n",
       "    .dataframe tbody tr th {\n",
       "        vertical-align: top;\n",
       "    }\n",
       "\n",
       "    .dataframe thead th {\n",
       "        text-align: right;\n",
       "    }\n",
       "</style>\n",
       "<table border=\"1\" class=\"dataframe\">\n",
       "  <thead>\n",
       "    <tr style=\"text-align: right;\">\n",
       "      <th></th>\n",
       "      <th>student_id</th>\n",
       "      <th>name</th>\n",
       "      <th>gender</th>\n",
       "      <th>age</th>\n",
       "      <th>grade_level</th>\n",
       "      <th>math_score</th>\n",
       "      <th>reading_score</th>\n",
       "      <th>writing_score</th>\n",
       "      <th>attendance_rate</th>\n",
       "      <th>parent_education</th>\n",
       "      <th>study_hours</th>\n",
       "      <th>internet_access</th>\n",
       "      <th>lunch_type</th>\n",
       "      <th>extra_activities</th>\n",
       "      <th>final_result</th>\n",
       "    </tr>\n",
       "  </thead>\n",
       "  <tbody>\n",
       "    <tr>\n",
       "      <th>0</th>\n",
       "      <td>S1</td>\n",
       "      <td>Student_1</td>\n",
       "      <td>2</td>\n",
       "      <td>17</td>\n",
       "      <td>10</td>\n",
       "      <td>74</td>\n",
       "      <td>61</td>\n",
       "      <td>90</td>\n",
       "      <td>94.660002</td>\n",
       "      <td>4</td>\n",
       "      <td>4.120192</td>\n",
       "      <td>1</td>\n",
       "      <td>0</td>\n",
       "      <td>1</td>\n",
       "      <td>0</td>\n",
       "    </tr>\n",
       "    <tr>\n",
       "      <th>1</th>\n",
       "      <td>S2</td>\n",
       "      <td>Student_2</td>\n",
       "      <td>1</td>\n",
       "      <td>17</td>\n",
       "      <td>12</td>\n",
       "      <td>99</td>\n",
       "      <td>70</td>\n",
       "      <td>91</td>\n",
       "      <td>93.173227</td>\n",
       "      <td>1</td>\n",
       "      <td>2.886505</td>\n",
       "      <td>0</td>\n",
       "      <td>0</td>\n",
       "      <td>0</td>\n",
       "      <td>1</td>\n",
       "    </tr>\n",
       "    <tr>\n",
       "      <th>2</th>\n",
       "      <td>S3</td>\n",
       "      <td>Student_3</td>\n",
       "      <td>2</td>\n",
       "      <td>17</td>\n",
       "      <td>9</td>\n",
       "      <td>59</td>\n",
       "      <td>60</td>\n",
       "      <td>99</td>\n",
       "      <td>98.631098</td>\n",
       "      <td>2</td>\n",
       "      <td>1.909926</td>\n",
       "      <td>0</td>\n",
       "      <td>0</td>\n",
       "      <td>0</td>\n",
       "      <td>0</td>\n",
       "    </tr>\n",
       "    <tr>\n",
       "      <th>3</th>\n",
       "      <td>S4</td>\n",
       "      <td>Student_4</td>\n",
       "      <td>2</td>\n",
       "      <td>17</td>\n",
       "      <td>12</td>\n",
       "      <td>70</td>\n",
       "      <td>88</td>\n",
       "      <td>69</td>\n",
       "      <td>96.419620</td>\n",
       "      <td>2</td>\n",
       "      <td>1.664740</td>\n",
       "      <td>0</td>\n",
       "      <td>1</td>\n",
       "      <td>0</td>\n",
       "      <td>1</td>\n",
       "    </tr>\n",
       "    <tr>\n",
       "      <th>4</th>\n",
       "      <td>S5</td>\n",
       "      <td>Student_5</td>\n",
       "      <td>1</td>\n",
       "      <td>15</td>\n",
       "      <td>9</td>\n",
       "      <td>85</td>\n",
       "      <td>77</td>\n",
       "      <td>94</td>\n",
       "      <td>91.332105</td>\n",
       "      <td>2</td>\n",
       "      <td>2.330918</td>\n",
       "      <td>1</td>\n",
       "      <td>0</td>\n",
       "      <td>0</td>\n",
       "      <td>1</td>\n",
       "    </tr>\n",
       "  </tbody>\n",
       "</table>\n",
       "</div>"
      ],
      "text/plain": [
       "  student_id       name  gender  age  grade_level  math_score  reading_score  \\\n",
       "0         S1  Student_1       2   17           10          74             61   \n",
       "1         S2  Student_2       1   17           12          99             70   \n",
       "2         S3  Student_3       2   17            9          59             60   \n",
       "3         S4  Student_4       2   17           12          70             88   \n",
       "4         S5  Student_5       1   15            9          85             77   \n",
       "\n",
       "   writing_score  attendance_rate  parent_education  study_hours  \\\n",
       "0             90        94.660002                 4     4.120192   \n",
       "1             91        93.173227                 1     2.886505   \n",
       "2             99        98.631098                 2     1.909926   \n",
       "3             69        96.419620                 2     1.664740   \n",
       "4             94        91.332105                 2     2.330918   \n",
       "\n",
       "   internet_access  lunch_type  extra_activities  final_result  \n",
       "0                1           0                 1             0  \n",
       "1                0           0                 0             1  \n",
       "2                0           0                 0             0  \n",
       "3                0           1                 0             1  \n",
       "4                1           0                 0             1  "
      ]
     },
     "execution_count": 38,
     "metadata": {},
     "output_type": "execute_result"
    }
   ],
   "source": [
    "# Transformación de variables\n",
    "\n",
    "data_raw[\"lunch_type\"] = data_raw[\"lunch_type\"].map({\"Standard\":1, \"Free or reduced\":0})\n",
    "data_raw[\"gender\"] = data_raw[\"gender\"].map({\"Male\":1, \"Female\":0, \"Other\":2})\n",
    "data_raw[\"parent_education\"]= data_raw[\"parent_education\"].map({\"Bachelor's\":1,\"PhD\":2,\"High School\":3,\"Master's\":4})\n",
    "data_raw[\"internet_access\"]= data_raw[\"internet_access\"].map({\"Yes\":1,\"No\":0})\n",
    "data_raw[\"extra_activities\"]= data_raw[\"extra_activities\"].map({\"Yes\":1,\"No\":0})\n",
    "data_raw[\"final_result\"]= data_raw[\"final_result\"].map({\"Pass\":1,\"Fail\":0})\n",
    "\n",
    "data_raw.head()"
   ]
  },
  {
   "cell_type": "markdown",
   "id": "21af7066",
   "metadata": {},
   "source": [
    "# 3. Exploración de los datos \n",
    "\n",
    "Como vimos con anterioridad no tenemos valores faltantes ni duplicados, adicional a esto, es recomendable detectar si tenemos un dataset desbalanceado."
   ]
  },
  {
   "cell_type": "code",
   "execution_count": null,
   "id": "fd80b363",
   "metadata": {},
   "outputs": [
    {
     "data": {
      "application/vnd.microsoft.datawrangler.viewer.v0+json": {
       "columns": [
        {
         "name": "index",
         "rawType": "object",
         "type": "string"
        },
        {
         "name": "0",
         "rawType": "int64",
         "type": "integer"
        }
       ],
       "ref": "7a7b8a39-be40-401f-927f-e9c60a76a1a9",
       "rows": [
        [
         "student_id",
         "192"
        ],
        [
         "name",
         "192"
        ],
        [
         "gender",
         "192"
        ],
        [
         "age",
         "192"
        ],
        [
         "grade_level",
         "192"
        ],
        [
         "math_score",
         "192"
        ],
        [
         "reading_score",
         "192"
        ],
        [
         "writing_score",
         "192"
        ],
        [
         "attendance_rate",
         "192"
        ],
        [
         "parent_education",
         "192"
        ],
        [
         "study_hours",
         "192"
        ],
        [
         "internet_access",
         "192"
        ],
        [
         "lunch_type",
         "192"
        ],
        [
         "extra_activities",
         "192"
        ],
        [
         "final_result",
         "192"
        ]
       ],
       "shape": {
        "columns": 1,
        "rows": 15
       }
      },
      "text/plain": [
       "student_id          192\n",
       "name                192\n",
       "gender              192\n",
       "age                 192\n",
       "grade_level         192\n",
       "math_score          192\n",
       "reading_score       192\n",
       "writing_score       192\n",
       "attendance_rate     192\n",
       "parent_education    192\n",
       "study_hours         192\n",
       "internet_access     192\n",
       "lunch_type          192\n",
       "extra_activities    192\n",
       "final_result        192\n",
       "dtype: int64"
      ]
     },
     "execution_count": 94,
     "metadata": {},
     "output_type": "execute_result"
    }
   ],
   "source": [
    "# Condiciones de filtrado\n",
    "\n",
    "data_raw[(data_raw[\"gender\"] == 1) & (data_raw[\"extra_activities\"] == 1)].count()"
   ]
  },
  {
   "cell_type": "markdown",
   "id": "5198f760",
   "metadata": {},
   "source": [
    "## 3.1 Gráficas "
   ]
  },
  {
   "cell_type": "code",
   "execution_count": 40,
   "id": "592bed8c",
   "metadata": {},
   "outputs": [
    {
     "data": {
      "image/png": "[encoded data removed]",
      "text/plain": [
       "<Figure size 1200x1200 with 2 Axes>"
      ]
     },
     "metadata": {},
     "output_type": "display_data"
    }
   ],
   "source": [
    "# Mapa de correlación entre variables\n",
    "\n",
    "plt.figure(figsize=(12,12))\n",
    "corr =data_raw.corr(numeric_only=True)\n",
    "mask= np.triu(np.ones_like(corr,dtype=bool))\n",
    "sns.heatmap(corr,mask=mask,annot=True,cmap=\"mako\",fmt=\".2f\",linewidths=0.3)\n",
    "plt.show()\n",
    "\n"
   ]
  },
  {
   "cell_type": "markdown",
   "id": "49ed9632",
   "metadata": {},
   "source": [
    "#### Correlación entre variables\n",
    "\n",
    "La correlación entre variables se puede interpretar de 3 formas:\n",
    "\n",
    "- Si la correlación es positiva, cuando una variable aumenta la otra tambien lo hace. / Colores cálidos\n",
    "\n",
    "- Si la correlación es nula, no existe relación entre las variables.\n",
    "\n",
    "- Si la correlación es negativa, cuando una variable aumenta la otra disminuye. / Colores frios\n",
    "\n",
    "Considerando esto, podemos leer/traducir el gráfico superior con facilidad."
   ]
  },
  {
   "cell_type": "code",
   "execution_count": 46,
   "id": "2ca524d9",
   "metadata": {},
   "outputs": [
    {
     "data": {
      "image/png": "[encoded data removed]",
      "text/plain": [
       "<Figure size 1000x1000 with 16 Axes>"
      ]
     },
     "metadata": {},
     "output_type": "display_data"
    }
   ],
   "source": [
    "# Histograma de las variables\n",
    "\n",
    "data_raw.hist(bins=30,figsize=(10,10),grid=False)\n",
    "plt.show()\n"
   ]
  },
  {
   "cell_type": "markdown",
   "id": "c3213d64",
   "metadata": {},
   "source": [
    "# 4. Modelado regresión lineal"
   ]
  },
  {
   "cell_type": "code",
   "execution_count": 68,
   "id": "135756aa",
   "metadata": {},
   "outputs": [],
   "source": [
    "# División de los datos\n",
    "\n",
    "x = data_raw.drop(\"final_result\",axis=1)\n",
    "y = data_raw[\"final_result\"]\n"
   ]
  },
  {
   "cell_type": "code",
   "execution_count": null,
   "id": "1d7a3068",
   "metadata": {},
   "outputs": [],
   "source": []
  }
 ],
 "metadata": {
  "kernelspec": {
   "display_name": ".venv",
   "language": "python",
   "name": "python3"
  },
  "language_info": {
   "codemirror_mode": {
    "name": "ipython",
    "version": 3
   },
   "file_extension": ".py",
   "mimetype": "text/x-python",
   "name": "python",
   "nbconvert_exporter": "python",
   "pygments_lexer": "ipython3",
   "version": "3.12.10"
  }
 },
 "nbformat": 4,
 "nbformat_minor": 5
}
