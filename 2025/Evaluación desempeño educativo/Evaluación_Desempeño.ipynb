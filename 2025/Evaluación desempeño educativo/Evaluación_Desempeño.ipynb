{
 "cells": [
  {
   "cell_type": "markdown",
   "id": "35f0ea2a",
   "metadata": {},
   "source": [
    "# 0. Introducción al proyecto\n",
    "\n",
    "La idea principal de este NoteBook es comparar el desempeño de un modelo clásico de ML frente a una red neuronal diseñada completamente por mi.\n",
    "\n",
    "Para ello abordaré un problema relativamente sencillo con un dataset extraido de Kaggle al que podéis acceder desde aquí:\n",
    "\n",
    " https://www.kaggle.com/datasets/therohithanand/student-academic-performance-dataset/data\n",
    "\n",
    "Para abordar problemas del mundo real es importante responder una serie de preguntas:\n",
    "\n",
    "- ¿Cuál es la finalidad del proyecto?\n",
    "\n",
    "- ¿?\n",
    "\n",
    "- ¿Qué significado tienen los resultados obtenidos?\n",
    "\n",
    "- ¿Cuáles son las métricas con mayor impacto?\n",
    "\n",
    "Una vez planteadas y respondidas estas preguntas, es interesante ..."
   ]
  },
  {
   "cell_type": "markdown",
   "id": "ad618d13",
   "metadata": {},
   "source": [
    "# 1. Importación de librerias y carga de datos\n",
    "\n",
    "\n"
   ]
  },
  {
   "cell_type": "code",
   "execution_count": 13,
   "id": "7dd62474",
   "metadata": {},
   "outputs": [],
   "source": [
    "import pandas as pd \n",
    "import numpy as np \n",
    "import seaborn as sns\n",
    "import matplotlib as plt\n",
    "import tensorflow as tf \n",
    "\n",
    "\n",
    "ruta = \"./data/student_info.csv\"\n",
    "\n",
    "data_raw = pd.read_csv(ruta, sep=\",\")"
   ]
  },
  {
   "cell_type": "markdown",
   "id": "d6e50491",
   "metadata": {},
   "source": [
    "# 2. Preprocesado del dataset"
   ]
  },
  {
   "cell_type": "code",
   "execution_count": null,
   "id": "6daa32c1",
   "metadata": {},
   "outputs": [
    {
     "name": "stdout",
     "output_type": "stream",
     "text": [
      "<class 'pandas.core.frame.DataFrame'>\n",
      "RangeIndex: 1000 entries, 0 to 999\n",
      "Data columns (total 15 columns):\n",
      " #   Column            Non-Null Count  Dtype  \n",
      "---  ------            --------------  -----  \n",
      " 0   student_id        1000 non-null   object \n",
      " 1   name              1000 non-null   object \n",
      " 2   gender            1000 non-null   object \n",
      " 3   age               1000 non-null   int64  \n",
      " 4   grade_level       1000 non-null   int64  \n",
      " 5   math_score        1000 non-null   int64  \n",
      " 6   reading_score     1000 non-null   int64  \n",
      " 7   writing_score     1000 non-null   int64  \n",
      " 8   attendance_rate   1000 non-null   float64\n",
      " 9   parent_education  1000 non-null   object \n",
      " 10  study_hours       1000 non-null   float64\n",
      " 11  internet_access   1000 non-null   object \n",
      " 12  lunch_type        1000 non-null   object \n",
      " 13  extra_activities  1000 non-null   object \n",
      " 14  final_result      1000 non-null   object \n",
      "dtypes: float64(2), int64(5), object(8)\n",
      "memory usage: 117.3+ KB\n"
     ]
    }
   ],
   "source": [
    "# Visualizamos la información de las variables\n",
    "data_raw.info()"
   ]
  },
  {
   "cell_type": "markdown",
   "id": "c4d8798b",
   "metadata": {},
   "source": [
    "Estamos trabajando con un dataset de Kaggle que por lo general ya vienen limpiados/tratados.\n",
    "\n",
    "La parte negativa de esto es que nos alejamos de un proyecto real. \n",
    "\n",
    "Ya que por lo general, en un proyecto real, falta información (a causa de problemas en su recopilación o errores humanos) y estamos omitiendo la fase de transformar esa información faltante o eliminarla."
   ]
  },
  {
   "cell_type": "markdown",
   "id": "a030ebb1",
   "metadata": {},
   "source": [
    "#### Describción de las variables\n",
    "\n",
    "- student_id -> Identificador del estudiante\n",
    "\n",
    "- name -> Nombre del estudiante (Confidencial)\n",
    "\n",
    "- gender -> Genero del estudiante (Male, Female, Other)\n",
    "\n",
    "- age -> Edad del estudiante\n",
    "\n",
    "- grade_level -> Curso en el que se encuentra el estudiante\n",
    "\n",
    "- math_score -> Puntuación en matemáticas\n",
    "\n",
    "- reading_score -> Puntuación en lectura\n",
    "\n",
    "- writing_score -> Puntuación en escritura\n",
    "\n",
    "- attendance_rate -> Tasa de asistancia\n",
    "\n",
    "- parent_education -> Nivel educativo de sus progenitores (Bachelor´s, PhD, High School, Master´s)\n",
    "\n",
    "- study_hours -> Horas de estudio\n",
    "\n",
    "- internet_access -> Acceso a internet (Yes, No)\n",
    "\n",
    "- lunch_type -> Tipo de almuerzo (Standard, Free or Reduced)\n",
    "\n",
    "- extra_activities -> Actividades extracurriculares (Yes, No)\n",
    "\n",
    "- final_result -> Resultado final (Pass, Fail)\n",
    "\n",
    "\n",
    "\n",
    "Habiendo identificado todas las variables y sus tipos, podemos determinar que cambios son necesarios para realizar la fase de modelado."
   ]
  },
  {
   "cell_type": "code",
   "execution_count": 17,
   "id": "61113bf3",
   "metadata": {},
   "outputs": [
    {
     "data": {
      "application/vnd.microsoft.datawrangler.viewer.v0+json": {
       "columns": [
        {
         "name": "index",
         "rawType": "object",
         "type": "string"
        },
        {
         "name": "count",
         "rawType": "float64",
         "type": "float"
        },
        {
         "name": "mean",
         "rawType": "float64",
         "type": "float"
        },
        {
         "name": "std",
         "rawType": "float64",
         "type": "float"
        },
        {
         "name": "min",
         "rawType": "float64",
         "type": "float"
        },
        {
         "name": "25%",
         "rawType": "float64",
         "type": "float"
        },
        {
         "name": "50%",
         "rawType": "float64",
         "type": "float"
        },
        {
         "name": "75%",
         "rawType": "float64",
         "type": "float"
        },
        {
         "name": "max",
         "rawType": "float64",
         "type": "float"
        }
       ],
       "ref": "b1e6cd72-e3ca-4f3c-8b1f-e6907373f2d7",
       "rows": [
        [
         "age",
         "1000.0",
         "15.999",
         "0.8171087238958269",
         "15.0",
         "15.0",
         "16.0",
         "17.0",
         "17.0"
        ],
        [
         "grade_level",
         "1000.0",
         "10.473",
         "1.1360288559546194",
         "9.0",
         "9.0",
         "10.0",
         "12.0",
         "12.0"
        ],
        [
         "math_score",
         "1000.0",
         "75.165",
         "14.304348618143694",
         "50.0",
         "63.0",
         "75.0",
         "88.0",
         "99.0"
        ],
        [
         "reading_score",
         "1000.0",
         "74.293",
         "14.312651850827748",
         "50.0",
         "62.0",
         "74.0",
         "86.0",
         "99.0"
        ],
        [
         "writing_score",
         "1000.0",
         "75.15",
         "14.395093564083519",
         "50.0",
         "63.0",
         "75.0",
         "88.0",
         "99.0"
        ],
        [
         "attendance_rate",
         "1000.0",
         "89.87917930734913",
         "5.72500670813145",
         "80.00061437690765",
         "84.97177237383673",
         "89.98088935512831",
         "94.62977771576244",
         "99.954987780204"
        ],
        [
         "study_hours",
         "1000.0",
         "2.978380122611146",
         "1.1677801650612705",
         "1.015673499804373",
         "1.955287252296845",
         "2.962664504157477",
         "3.9943600738264475",
         "4.9978427242386925"
        ]
       ],
       "shape": {
        "columns": 8,
        "rows": 7
       }
      },
      "text/html": [
       "<div>\n",
       "<style scoped>\n",
       "    .dataframe tbody tr th:only-of-type {\n",
       "        vertical-align: middle;\n",
       "    }\n",
       "\n",
       "    .dataframe tbody tr th {\n",
       "        vertical-align: top;\n",
       "    }\n",
       "\n",
       "    .dataframe thead th {\n",
       "        text-align: right;\n",
       "    }\n",
       "</style>\n",
       "<table border=\"1\" class=\"dataframe\">\n",
       "  <thead>\n",
       "    <tr style=\"text-align: right;\">\n",
       "      <th></th>\n",
       "      <th>count</th>\n",
       "      <th>mean</th>\n",
       "      <th>std</th>\n",
       "      <th>min</th>\n",
       "      <th>25%</th>\n",
       "      <th>50%</th>\n",
       "      <th>75%</th>\n",
       "      <th>max</th>\n",
       "    </tr>\n",
       "  </thead>\n",
       "  <tbody>\n",
       "    <tr>\n",
       "      <th>age</th>\n",
       "      <td>1000.0</td>\n",
       "      <td>15.999000</td>\n",
       "      <td>0.817109</td>\n",
       "      <td>15.000000</td>\n",
       "      <td>15.000000</td>\n",
       "      <td>16.000000</td>\n",
       "      <td>17.000000</td>\n",
       "      <td>17.000000</td>\n",
       "    </tr>\n",
       "    <tr>\n",
       "      <th>grade_level</th>\n",
       "      <td>1000.0</td>\n",
       "      <td>10.473000</td>\n",
       "      <td>1.136029</td>\n",
       "      <td>9.000000</td>\n",
       "      <td>9.000000</td>\n",
       "      <td>10.000000</td>\n",
       "      <td>12.000000</td>\n",
       "      <td>12.000000</td>\n",
       "    </tr>\n",
       "    <tr>\n",
       "      <th>math_score</th>\n",
       "      <td>1000.0</td>\n",
       "      <td>75.165000</td>\n",
       "      <td>14.304349</td>\n",
       "      <td>50.000000</td>\n",
       "      <td>63.000000</td>\n",
       "      <td>75.000000</td>\n",
       "      <td>88.000000</td>\n",
       "      <td>99.000000</td>\n",
       "    </tr>\n",
       "    <tr>\n",
       "      <th>reading_score</th>\n",
       "      <td>1000.0</td>\n",
       "      <td>74.293000</td>\n",
       "      <td>14.312652</td>\n",
       "      <td>50.000000</td>\n",
       "      <td>62.000000</td>\n",
       "      <td>74.000000</td>\n",
       "      <td>86.000000</td>\n",
       "      <td>99.000000</td>\n",
       "    </tr>\n",
       "    <tr>\n",
       "      <th>writing_score</th>\n",
       "      <td>1000.0</td>\n",
       "      <td>75.150000</td>\n",
       "      <td>14.395094</td>\n",
       "      <td>50.000000</td>\n",
       "      <td>63.000000</td>\n",
       "      <td>75.000000</td>\n",
       "      <td>88.000000</td>\n",
       "      <td>99.000000</td>\n",
       "    </tr>\n",
       "    <tr>\n",
       "      <th>attendance_rate</th>\n",
       "      <td>1000.0</td>\n",
       "      <td>89.879179</td>\n",
       "      <td>5.725007</td>\n",
       "      <td>80.000614</td>\n",
       "      <td>84.971772</td>\n",
       "      <td>89.980889</td>\n",
       "      <td>94.629778</td>\n",
       "      <td>99.954988</td>\n",
       "    </tr>\n",
       "    <tr>\n",
       "      <th>study_hours</th>\n",
       "      <td>1000.0</td>\n",
       "      <td>2.978380</td>\n",
       "      <td>1.167780</td>\n",
       "      <td>1.015673</td>\n",
       "      <td>1.955287</td>\n",
       "      <td>2.962665</td>\n",
       "      <td>3.994360</td>\n",
       "      <td>4.997843</td>\n",
       "    </tr>\n",
       "  </tbody>\n",
       "</table>\n",
       "</div>"
      ],
      "text/plain": [
       "                  count       mean        std        min        25%  \\\n",
       "age              1000.0  15.999000   0.817109  15.000000  15.000000   \n",
       "grade_level      1000.0  10.473000   1.136029   9.000000   9.000000   \n",
       "math_score       1000.0  75.165000  14.304349  50.000000  63.000000   \n",
       "reading_score    1000.0  74.293000  14.312652  50.000000  62.000000   \n",
       "writing_score    1000.0  75.150000  14.395094  50.000000  63.000000   \n",
       "attendance_rate  1000.0  89.879179   5.725007  80.000614  84.971772   \n",
       "study_hours      1000.0   2.978380   1.167780   1.015673   1.955287   \n",
       "\n",
       "                       50%        75%        max  \n",
       "age              16.000000  17.000000  17.000000  \n",
       "grade_level      10.000000  12.000000  12.000000  \n",
       "math_score       75.000000  88.000000  99.000000  \n",
       "reading_score    74.000000  86.000000  99.000000  \n",
       "writing_score    75.000000  88.000000  99.000000  \n",
       "attendance_rate  89.980889  94.629778  99.954988  \n",
       "study_hours       2.962665   3.994360   4.997843  "
      ]
     },
     "execution_count": 17,
     "metadata": {},
     "output_type": "execute_result"
    }
   ],
   "source": [
    "# Pequeño análisis estadistico de las variables numéricas\n",
    "data_raw.describe().transpose()"
   ]
  },
  {
   "cell_type": "code",
   "execution_count": null,
   "id": "856a2273",
   "metadata": {},
   "outputs": [],
   "source": []
  }
 ],
 "metadata": {
  "kernelspec": {
   "display_name": ".venv",
   "language": "python",
   "name": "python3"
  },
  "language_info": {
   "codemirror_mode": {
    "name": "ipython",
    "version": 3
   },
   "file_extension": ".py",
   "mimetype": "text/x-python",
   "name": "python",
   "nbconvert_exporter": "python",
   "pygments_lexer": "ipython3",
   "version": "3.12.10"
  }
 },
 "nbformat": 4,
 "nbformat_minor": 5
}
